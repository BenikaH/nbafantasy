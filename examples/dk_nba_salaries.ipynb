{
 "cells": [
  {
   "cell_type": "markdown",
   "metadata": {},
   "source": [
    "# dk_nba_salaries"
   ]
  },
  {
   "cell_type": "markdown",
   "metadata": {},
   "source": [
    "* Getting the dataset\n",
    "* Exploring the dataset\n",
    "* Predicting DK salaries\n",
    "* Predicting DK points\n",
    "* Predicting whether player will reach 6X"
   ]
  },
  {
   "cell_type": "markdown",
   "metadata": {},
   "source": [
    "## Getting the dataset"
   ]
  },
  {
   "cell_type": "code",
   "execution_count": 2,
   "metadata": {},
   "outputs": [
    {
     "name": "stderr",
     "output_type": "stream",
     "text": [
      "Loading required package: RPostgreSQL\n",
      "Loading required package: DBI\n",
      "Loading required package: dplyr\n",
      "\n",
      "Attaching package: ‘dplyr’\n",
      "\n",
      "The following objects are masked from ‘package:stats’:\n",
      "\n",
      "    filter, lag\n",
      "\n",
      "The following objects are masked from ‘package:base’:\n",
      "\n",
      "    intersect, setdiff, setequal, union\n",
      "\n",
      "Loading required package: caret\n",
      "Loading required package: lattice\n",
      "Loading required package: ggplot2\n"
     ]
    }
   ],
   "source": [
    "require(RPostgreSQL)\n",
    "require(dplyr)\n",
    "require(caret)\n",
    "library(corrplot)"
   ]
  },
  {
   "cell_type": "code",
   "execution_count": 3,
   "metadata": {},
   "outputs": [
    {
     "name": "stderr",
     "output_type": "stream",
     "text": [
      "Loading required package: foreach\n",
      "Loading required package: iterators\n",
      "Loading required package: parallel\n"
     ]
    }
   ],
   "source": [
    "library(doMC)\n",
    "registerDoMC(cores = 3)"
   ]
  },
  {
   "cell_type": "code",
   "execution_count": 4,
   "metadata": {
    "collapsed": true
   },
   "outputs": [],
   "source": [
    "nbadb <- function() {\n",
    "  drv <- dbDriver(\"PostgreSQL\")\n",
    "  con <- dbConnect(drv, dbname = \"nbadb\", user='nbadb', password='cft0911')\n",
    "  q = \"SELECT * FROM tmpmodel\"\n",
    "  dbGetQuery(con, q)\n",
    "}"
   ]
  },
  {
   "cell_type": "code",
   "execution_count": 5,
   "metadata": {
    "collapsed": true
   },
   "outputs": [],
   "source": [
    "pp <- function(sal=3500, dk=12, min=15) {\n",
    "  # filter out NA\n",
    "  # remove useless players\n",
    "  d = nbadb()\n",
    "  d = d[complete.cases(d),]\n",
    "  d %>% filter(salary >= sal, dkema25 > dk, minema25 > min)\n",
    "}"
   ]
  },
  {
   "cell_type": "markdown",
   "metadata": {},
   "source": [
    "## Exploring the Dataset"
   ]
  },
  {
   "cell_type": "code",
   "execution_count": 6,
   "metadata": {
    "collapsed": true
   },
   "outputs": [],
   "source": [
    "dfr = pp(sal=4000)"
   ]
  },
  {
   "cell_type": "markdown",
   "metadata": {},
   "source": [
    "Most of the variables are self-explanatory, such as season or game_date. \n",
    "\n",
    "The opaque variables are described below.\n",
    "\n",
    "    position_group: Point, Wing, or Big\n",
    "    minavg: average minutes played up to, but not including, this game\n",
    "    minema2: exponentional moving average of minutes, alpha = .02\n",
    "    minema10: exponentional moving average of minutes, alpha = .10\n",
    "    minema25: exponentional moving average of minutes, alpha = .25\n",
    "    minema40: exponentional moving average of minutes, alpha = .40\n",
    "    dkavg: average dk_points in games up to, but not including, this game\n",
    "    dkema2: exponentional moving average of dk_points, alpha = .02\n",
    "    dkema10: exponentional moving average of dk_points, alpha = .10\n",
    "    dkema25: exponentional moving average of dk_points, alpha = .25\n",
    "    dkema40: exponentional moving average of dk_points, alpha = .40\n",
    "    lastmin: minutes played in previous game\n",
    "    lastdk: dk points scored in previous game\n",
    "    delta_projected_team_total: team_average_ppg - team_implied_total\n",
    "    pace_avg: in games up to, but not including, this game\n",
    "    pace_ema2: exponentional moving average of pace, alpha = .02\n",
    "    pace_ema10: exponentional moving average of pace, alpha = .10\n",
    "    pace_ema25: exponentional moving average of pace, alpha = .25\n",
    "    pace_ema40: exponentional moving average of pace, alpha = .40\n",
    "    drtg_avg: defensive rating in games up to, but not including, this game\n",
    "    drtg_ema2: exponentional moving average of defensive rating, alpha = .02\n",
    "    drtg_ema10: exponentional moving average of defensive rating, alpha = .10\n",
    "    drtg_ema25: exponentional moving average of defensive rating, alpha = .25\n",
    "    drtg_ema40: exponentional moving average of defensive rating, alpha = .40\n",
    "    y: whether the player scored 5X salary"
   ]
  },
  {
   "cell_type": "markdown",
   "metadata": {},
   "source": [
    "\n",
    "## Predicting DraftKings Salaries\n",
    "\n",
    "How accurately can we predict a player's salary? This could be useful, at a minimum, to impute salaries to old NBA data which would massively increase the available samples."
   ]
  },
  {
   "cell_type": "markdown",
   "metadata": {},
   "source": [
    "### Simple regression model"
   ]
  },
  {
   "cell_type": "code",
   "execution_count": 8,
   "metadata": {},
   "outputs": [],
   "source": [
    "# some of the variables not needed, such as season or player_name so we'll remove those.\n",
    "dfr2 = subset(dfr, select = -c(season, game_date, game_id, nbacom_player_id, player_name, team_code,\n",
    "           opp, min, dk_points, pos, y))"
   ]
  },
  {
   "cell_type": "code",
   "execution_count": 9,
   "metadata": {
    "collapsed": true
   },
   "outputs": [],
   "source": [
    "# turn the categorical variables into factors\n",
    "dfr2$position_group = as.factor(dfr2$position_group)\n",
    "dfr2$back_to_back = as.factor(dfr2$back_to_back)\n",
    "dfr2$three_in_four = as.factor(dfr2$three_in_four)"
   ]
  },
  {
   "cell_type": "code",
   "execution_count": 10,
   "metadata": {
    "collapsed": true
   },
   "outputs": [],
   "source": [
    "# Create model with default paramters\n",
    "# based on http://machinelearningmastery.com/tune-machine-learning-algorithms-in-r/\n",
    "in_train = createDataPartition(dfr2$salary, p=.75, list=FALSE)\n",
    "dfr2_train = dfr2[in_train,]\n",
    "dfr2_test = dfr2[-in_train,]\n",
    "Xtrain = subset(dfr2_train, select=-c(salary))\n",
    "ytrain = subset(dfr2_train, select=c(salary))\n",
    "Xtest = subset(dfr2_test, select=-c(salary))\n",
    "ytest = subset(dfr2_test, select=c(salary))\n",
    "control <- trainControl(method=\"repeatedcv\", number=10, repeats=3)"
   ]
  },
  {
   "cell_type": "code",
   "execution_count": 11,
   "metadata": {
    "collapsed": true
   },
   "outputs": [],
   "source": [
    "set.seed(13)\n",
    "m.lm <- train(salary ~ ., data=dfr2_train, method=\"lm\", trControl=control)"
   ]
  },
  {
   "cell_type": "code",
   "execution_count": 12,
   "metadata": {},
   "outputs": [
    {
     "name": "stdout",
     "output_type": "stream",
     "text": [
      "Linear Regression \n",
      "\n",
      "12725 samples\n",
      "   32 predictor\n",
      "\n",
      "No pre-processing\n",
      "Resampling: Cross-Validated (10 fold, repeated 3 times) \n",
      "Summary of sample sizes: 11451, 11453, 11451, 11452, 11453, 11452, ... \n",
      "Resampling results:\n",
      "\n",
      "  RMSE      Rsquared \n",
      "  559.9706  0.8891593\n",
      "\n",
      "Tuning parameter 'intercept' was held constant at a value of TRUE\n",
      " \n"
     ]
    }
   ],
   "source": [
    "print(m.lm)"
   ]
  },
  {
   "cell_type": "code",
   "execution_count": null,
   "metadata": {},
   "outputs": [],
   "source": [
    "set.seed(13)\n",
    "m.lm <- train(salary ~ ., data=dfr2_train, method=\"lm\", preProcess=c('scale', 'center'), trControl=control)"
   ]
  },
  {
   "cell_type": "code",
   "execution_count": null,
   "metadata": {},
   "outputs": [],
   "source": [
    "print(m.lm)"
   ]
  },
  {
   "cell_type": "code",
   "execution_count": null,
   "metadata": {
    "collapsed": true
   },
   "outputs": [],
   "source": [
    "set.seed(13)\n",
    "m.lm <- train(salary ~ ., data=dfr2_train, method=\"lm\", preProcess=c('scale', 'center', 'pca'), trControl=control)"
   ]
  },
  {
   "cell_type": "code",
   "execution_count": null,
   "metadata": {
    "collapsed": true
   },
   "outputs": [],
   "source": [
    "print(m.lm)"
   ]
  },
  {
   "cell_type": "markdown",
   "metadata": {},
   "source": [
    "## Classification: Predicting 6x (or some other salary multiplier)"
   ]
  },
  {
   "cell_type": "markdown",
   "metadata": {
    "collapsed": true
   },
   "source": [
    "### Using the ranger library"
   ]
  },
  {
   "cell_type": "code",
   "execution_count": null,
   "metadata": {
    "collapsed": true
   },
   "outputs": [],
   "source": [
    "library(ranger)"
   ]
  },
  {
   "cell_type": "code",
   "execution_count": null,
   "metadata": {
    "collapsed": true
   },
   "outputs": [],
   "source": []
  },
  {
   "cell_type": "code",
   "execution_count": null,
   "metadata": {
    "collapsed": true
   },
   "outputs": [],
   "source": [
    "m = ranger(y ~ ., data = dfr2_train, importance=\"impurity\")"
   ]
  },
  {
   "cell_type": "code",
   "execution_count": null,
   "metadata": {},
   "outputs": [],
   "source": [
    "m$variable.importance"
   ]
  },
  {
   "cell_type": "code",
   "execution_count": null,
   "metadata": {
    "collapsed": true
   },
   "outputs": [],
   "source": [
    "pred.dfr2 <- predict(m, dat=dfr2_test)"
   ]
  },
  {
   "cell_type": "code",
   "execution_count": null,
   "metadata": {},
   "outputs": [],
   "source": [
    "table(dfr2_test$y, pred.dfr2$predictions)"
   ]
  },
  {
   "cell_type": "code",
   "execution_count": null,
   "metadata": {
    "collapsed": true
   },
   "outputs": [],
   "source": [
    "dfr3 = subset(dfr2, select=c(pace_avg, drtg_avg, delta_projected_team_total, dkema2, dkema40, y))"
   ]
  },
  {
   "cell_type": "code",
   "execution_count": null,
   "metadata": {
    "collapsed": true
   },
   "outputs": [],
   "source": [
    "in_train = createDataPartition(dfr3$y, p=.75, list=FALSE)\n",
    "dfr3_train = dfr3[in_train,]\n",
    "dfr3_test = dfr3[-in_train,]"
   ]
  },
  {
   "cell_type": "code",
   "execution_count": null,
   "metadata": {
    "collapsed": true
   },
   "outputs": [],
   "source": [
    "m = ranger(y ~ ., data = dfr3_train, importance=\"impurity\")"
   ]
  },
  {
   "cell_type": "code",
   "execution_count": null,
   "metadata": {},
   "outputs": [],
   "source": [
    "m$variable.importance"
   ]
  },
  {
   "cell_type": "code",
   "execution_count": null,
   "metadata": {
    "collapsed": true
   },
   "outputs": [],
   "source": [
    "pred.dfr3 <- predict(m, dat=dfr3_test)"
   ]
  },
  {
   "cell_type": "code",
   "execution_count": null,
   "metadata": {},
   "outputs": [],
   "source": [
    "table(dfr3_test$y, pred.dfr3$predictions)"
   ]
  },
  {
   "cell_type": "markdown",
   "metadata": {},
   "source": [
    "## Using caret"
   ]
  },
  {
   "cell_type": "code",
   "execution_count": null,
   "metadata": {
    "collapsed": true
   },
   "outputs": [],
   "source": [
    "# Create model with default paramters\n",
    "# based on http://machinelearningmastery.com/tune-machine-learning-algorithms-in-r/\n",
    "X = dfr2[,1:ncol(dfr2) - 1]\n",
    "y = dfr2[,ncol(dfr2)]\n",
    "control <- trainControl(method=\"repeatedcv\", number=10, repeats=3)\n",
    "set.seed(13)\n",
    "tunegrid <- expand.grid(.mtry=sqrt(ncol(dfr2)))"
   ]
  },
  {
   "cell_type": "code",
   "execution_count": null,
   "metadata": {
    "collapsed": true
   },
   "outputs": [],
   "source": [
    "rfm <- train(X, y, method=\"ranger\", metric=\"Accuracy\", tuneGrid=tunegrid, trControl=control)"
   ]
  },
  {
   "cell_type": "code",
   "execution_count": null,
   "metadata": {},
   "outputs": [],
   "source": [
    "print(rfm)"
   ]
  },
  {
   "cell_type": "code",
   "execution_count": null,
   "metadata": {
    "collapsed": true
   },
   "outputs": [],
   "source": [
    "# do gridsearch for optimal mtry\n",
    "# based on http://machinelearningmastery.com/tune-machine-learning-algorithms-in-r/\n",
    "X = dfr2[,1:ncol(dfr2) - 1]\n",
    "y = dfr2[,ncol(dfr2)]\n",
    "control <- trainControl(method=\"repeatedcv\", number=10, repeats=3)\n",
    "set.seed(13)\n",
    "tunegrid <- expand.grid(.mtry=c(1:15))"
   ]
  },
  {
   "cell_type": "code",
   "execution_count": null,
   "metadata": {
    "collapsed": true
   },
   "outputs": [],
   "source": [
    "rfm2 <- train(X, y, method=\"ranger\", metric=\"Accuracy\", tuneGrid=tunegrid, trControl=control)"
   ]
  },
  {
   "cell_type": "code",
   "execution_count": null,
   "metadata": {},
   "outputs": [],
   "source": [
    "print(rfm2)"
   ]
  },
  {
   "cell_type": "code",
   "execution_count": null,
   "metadata": {
    "collapsed": true
   },
   "outputs": [],
   "source": []
  }
 ],
 "metadata": {
  "kernelspec": {
   "display_name": "R",
   "language": "R",
   "name": "ir"
  },
  "language_info": {
   "codemirror_mode": "r",
   "file_extension": ".r",
   "mimetype": "text/x-r-source",
   "name": "R",
   "pygments_lexer": "r",
   "version": "3.3.3"
  }
 },
 "nbformat": 4,
 "nbformat_minor": 2
}
